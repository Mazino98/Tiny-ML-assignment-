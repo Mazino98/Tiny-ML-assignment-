{
  "nbformat": 4,
  "nbformat_minor": 0,
  "metadata": {
    "colab": {
      "provenance": []
    },
    "kernelspec": {
      "name": "python3",
      "display_name": "Python 3"
    },
    "language_info": {
      "name": "python"
    }
  },
  "cells": [
    {
      "cell_type": "code",
      "execution_count": 1,
      "metadata": {
        "id": "TDh7QPrarpzB"
      },
      "outputs": [],
      "source": [
        "import tensorflow as tf\n",
        "import numpy as np\n",
        "import matplotlib.pyplot as plt"
      ]
    },
    {
      "cell_type": "code",
      "source": [
        "x_vals = input(\"Enter x values (separated by spaces): \")\n",
        "y_vals = input(\"Enter y values (separated by spaces): \")\n",
        "\n"
      ],
      "metadata": {
        "colab": {
          "base_uri": "https://localhost:8080/"
        },
        "id": "B6WxsAaKrwZ-",
        "outputId": "f3ed808d-721d-493e-e0d9-962a5f634041"
      },
      "execution_count": 2,
      "outputs": [
        {
          "name": "stdout",
          "output_type": "stream",
          "text": [
            "Enter x values (separated by spaces): 1 7 3 7 5\n",
            "Enter y values (separated by spaces): 2 5 7 9 6\n"
          ]
        }
      ]
    },
    {
      "cell_type": "code",
      "source": [
        "x_array = np.array(x_vals.split(), dtype=np.float32)\n",
        "y_array = np.array(y_vals.split(), dtype=np.float32)\n"
      ],
      "metadata": {
        "id": "X60_yBErr1px"
      },
      "execution_count": 3,
      "outputs": []
    },
    {
      "cell_type": "code",
      "source": [
        "x_array = x_array.reshape(-1, 1)\n",
        "y_array = y_array.reshape(-1, 1)\n"
      ],
      "metadata": {
        "id": "D9iDTTF0r5cd"
      },
      "execution_count": 4,
      "outputs": []
    },
    {
      "cell_type": "code",
      "source": [
        "linear_model = tf.keras.Sequential([\n",
        "    tf.keras.layers.Dense(units=1, input_shape=[1])\n",
        "])\n"
      ],
      "metadata": {
        "id": "ZjzkRdm6sAfT"
      },
      "execution_count": 5,
      "outputs": []
    },
    {
      "cell_type": "code",
      "source": [
        "linear_model.compile(optimizer='sgd', loss='mean_squared_error')\n"
      ],
      "metadata": {
        "id": "wr2I4GmRsBpv"
      },
      "execution_count": 6,
      "outputs": []
    },
    {
      "cell_type": "code",
      "source": [
        "training_history = linear_model.fit(x_array, y_array, epochs=1000, verbose=0)"
      ],
      "metadata": {
        "id": "xeYUJeM_sB0r"
      },
      "execution_count": 7,
      "outputs": []
    },
    {
      "cell_type": "code",
      "source": [
        "predicted_y = linear_model.predict(x_array)"
      ],
      "metadata": {
        "colab": {
          "base_uri": "https://localhost:8080/"
        },
        "id": "lUE_V3ntsKVd",
        "outputId": "4d0c2416-52b3-42bb-b693-fab74654fdd3"
      },
      "execution_count": 8,
      "outputs": [
        {
          "output_type": "stream",
          "name": "stdout",
          "text": [
            "1/1 [==============================] - 0s 113ms/step\n"
          ]
        }
      ]
    },
    {
      "cell_type": "code",
      "source": [
        "print(\"\\nPredictions vs Actual Values:\")\n",
        "for i in range(len(x_array)):\n",
        "    print(f\"For x = {x_array[i][0]}, predicted y = {predicted_y[i][0]:.2f}, actual y = {y_array[i][0]}\")"
      ],
      "metadata": {
        "colab": {
          "base_uri": "https://localhost:8080/"
        },
        "id": "EkOnH8o1sQ2T",
        "outputId": "ba111e63-b281-4521-da59-b159c0f2f64e"
      },
      "execution_count": 9,
      "outputs": [
        {
          "output_type": "stream",
          "name": "stdout",
          "text": [
            "\n",
            "Predictions vs Actual Values:\n",
            "For x = 1.0, predicted y = 3.43, actual y = 2.0\n",
            "For x = 7.0, predicted y = 7.36, actual y = 5.0\n",
            "For x = 3.0, predicted y = 4.74, actual y = 7.0\n",
            "For x = 7.0, predicted y = 7.36, actual y = 9.0\n",
            "For x = 5.0, predicted y = 6.05, actual y = 6.0\n"
          ]
        }
      ]
    },
    {
      "cell_type": "code",
      "source": [
        "user_x = float(input(\"\\nEnter a new x value to predict y: \"))\n",
        "user_y_prediction = linear_model.predict([[user_x]])\n",
        "print(f\"For x = {user_x}, predicted y = {user_y_prediction[0][0]:.2f}\")"
      ],
      "metadata": {
        "colab": {
          "base_uri": "https://localhost:8080/"
        },
        "id": "xLIZlNbNsWVU",
        "outputId": "2a509a56-f74b-45b1-d884-1a133f1e9e0a"
      },
      "execution_count": 10,
      "outputs": [
        {
          "output_type": "stream",
          "name": "stdout",
          "text": [
            "\n",
            "Enter a new x value to predict y: 5\n",
            "1/1 [==============================] - 0s 35ms/step\n",
            "For x = 5.0, predicted y = 6.05\n"
          ]
        }
      ]
    },
    {
      "cell_type": "code",
      "source": [
        "plt.figure(figsize=(14, 7))\n"
      ],
      "metadata": {
        "colab": {
          "base_uri": "https://localhost:8080/",
          "height": 53
        },
        "id": "5caP-QHlsade",
        "outputId": "4e88ce02-b1bf-418f-d16e-1dd507067f16"
      },
      "execution_count": 11,
      "outputs": [
        {
          "output_type": "execute_result",
          "data": {
            "text/plain": [
              "<Figure size 1400x700 with 0 Axes>"
            ]
          },
          "metadata": {},
          "execution_count": 11
        },
        {
          "output_type": "display_data",
          "data": {
            "text/plain": [
              "<Figure size 1400x700 with 0 Axes>"
            ]
          },
          "metadata": {}
        }
      ]
    },
    {
      "cell_type": "code",
      "source": [
        "plt.subplot(1, 2, 1)\n",
        "plt.plot(training_history.history['loss'])\n",
        "plt.title('Training Loss Over Epochs')\n",
        "plt.xlabel('Epoch')\n",
        "plt.ylabel('Loss')\n"
      ],
      "metadata": {
        "colab": {
          "base_uri": "https://localhost:8080/",
          "height": 490
        },
        "id": "dlyjsPsvsdYP",
        "outputId": "ae71f43a-9357-486e-caef-7b94c2961e58"
      },
      "execution_count": 12,
      "outputs": [
        {
          "output_type": "execute_result",
          "data": {
            "text/plain": [
              "Text(0, 0.5, 'Loss')"
            ]
          },
          "metadata": {},
          "execution_count": 12
        },
        {
          "output_type": "display_data",
          "data": {
            "text/plain": [
              "<Figure size 640x480 with 1 Axes>"
            ],
            "image/png": "[encoded data removed]"
          },
          "metadata": {}
        }
      ]
    },
    {
      "cell_type": "code",
      "source": [
        "plt.subplot(1, 2, 2)\n",
        "plt.scatter(x_array, y_array, label='Actual Data Points')\n",
        "plt.plot(x_array, predicted_y, color='red', label='Regression Line')\n",
        "plt.title('Actual Data vs Regression Line')\n",
        "plt.xlabel('x values')\n",
        "plt.ylabel('y values')\n",
        "plt.legend()"
      ],
      "metadata": {
        "colab": {
          "base_uri": "https://localhost:8080/",
          "height": 490
        },
        "id": "aZwtdJ24smrA",
        "outputId": "60776151-94d9-4f4d-cb72-a18483c58886"
      },
      "execution_count": 13,
      "outputs": [
        {
          "output_type": "execute_result",
          "data": {
            "text/plain": [
              "<matplotlib.legend.Legend at 0x786ad846bb80>"
            ]
          },
          "metadata": {},
          "execution_count": 13
        },
        {
          "output_type": "display_data",
          "data": {
            "text/plain": [
              "<Figure size 640x480 with 1 Axes>"
            ],
            "image/png": "[encoded data removed]"
          },
          "metadata": {}
        }
      ]
    },
    {
      "cell_type": "code",
      "source": [
        "plt.tight_layout()\n",
        "plt.show()"
      ],
      "metadata": {
        "colab": {
          "base_uri": "https://localhost:8080/",
          "height": 35
        },
        "id": "9_JF5Z50so1A",
        "outputId": "42f0c0f3-8656-4d8d-f311-9be71017cb7a"
      },
      "execution_count": 14,
      "outputs": [
        {
          "output_type": "display_data",
          "data": {
            "text/plain": [
              "<Figure size 640x480 with 0 Axes>"
            ]
          },
          "metadata": {}
        }
      ]
    },
    {
      "cell_type": "markdown",
      "source": [],
      "metadata": {
        "id": "5yxdIkOcruiz"
      }
    }
  ]
}